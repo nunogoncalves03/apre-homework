{
 "cells": [
  {
   "cell_type": "code",
   "execution_count": 5,
   "id": "7b624330",
   "metadata": {},
   "outputs": [],
   "source": [
    "import pandas as pd, numpy as np\n",
    "import matplotlib.pyplot as plt"
   ]
  },
  {
   "cell_type": "markdown",
   "id": "ba36350e",
   "metadata": {},
   "source": [
    "### Data profiling"
   ]
  },
  {
   "cell_type": "code",
   "execution_count": 19,
   "id": "2549e5e4",
   "metadata": {},
   "outputs": [
    {
     "data": {
      "text/html": [
       "<div>\n",
       "<style scoped>\n",
       "    .dataframe tbody tr th:only-of-type {\n",
       "        vertical-align: middle;\n",
       "    }\n",
       "\n",
       "    .dataframe tbody tr th {\n",
       "        vertical-align: top;\n",
       "    }\n",
       "\n",
       "    .dataframe thead th {\n",
       "        text-align: right;\n",
       "    }\n",
       "</style>\n",
       "<table border=\"1\" class=\"dataframe\">\n",
       "  <thead>\n",
       "    <tr style=\"text-align: right;\">\n",
       "      <th></th>\n",
       "      <th>gender</th>\n",
       "      <th>age</th>\n",
       "      <th>BMI</th>\n",
       "      <th>hemoglobine</th>\n",
       "      <th>vaccination_status</th>\n",
       "      <th>hospitalization</th>\n",
       "      <th>UCI_admission</th>\n",
       "      <th>hosp_days</th>\n",
       "      <th>therapy</th>\n",
       "      <th>status</th>\n",
       "    </tr>\n",
       "  </thead>\n",
       "  <tbody>\n",
       "    <tr>\n",
       "      <th>0</th>\n",
       "      <td>M</td>\n",
       "      <td>22</td>\n",
       "      <td>24</td>\n",
       "      <td>13</td>\n",
       "      <td>C</td>\n",
       "      <td>N</td>\n",
       "      <td>N</td>\n",
       "      <td>0</td>\n",
       "      <td>no</td>\n",
       "      <td>recovery</td>\n",
       "    </tr>\n",
       "    <tr>\n",
       "      <th>1</th>\n",
       "      <td>M</td>\n",
       "      <td>42</td>\n",
       "      <td>33</td>\n",
       "      <td>15</td>\n",
       "      <td>B</td>\n",
       "      <td>Y</td>\n",
       "      <td>Y</td>\n",
       "      <td>18</td>\n",
       "      <td>invasive</td>\n",
       "      <td>death</td>\n",
       "    </tr>\n",
       "    <tr>\n",
       "      <th>2</th>\n",
       "      <td>M</td>\n",
       "      <td>61</td>\n",
       "      <td>15</td>\n",
       "      <td>11</td>\n",
       "      <td>A</td>\n",
       "      <td>Y</td>\n",
       "      <td>Y</td>\n",
       "      <td>32</td>\n",
       "      <td>oxygen</td>\n",
       "      <td>recovery</td>\n",
       "    </tr>\n",
       "    <tr>\n",
       "      <th>3</th>\n",
       "      <td>M</td>\n",
       "      <td>69</td>\n",
       "      <td>21</td>\n",
       "      <td>16</td>\n",
       "      <td>A</td>\n",
       "      <td>Y</td>\n",
       "      <td>N</td>\n",
       "      <td>3</td>\n",
       "      <td>oxygen</td>\n",
       "      <td>recovery</td>\n",
       "    </tr>\n",
       "    <tr>\n",
       "      <th>4</th>\n",
       "      <td>F</td>\n",
       "      <td>34</td>\n",
       "      <td>33</td>\n",
       "      <td>9</td>\n",
       "      <td>D</td>\n",
       "      <td>Y</td>\n",
       "      <td>Y</td>\n",
       "      <td>5</td>\n",
       "      <td>oxygen</td>\n",
       "      <td>recovery</td>\n",
       "    </tr>\n",
       "    <tr>\n",
       "      <th>5</th>\n",
       "      <td>F</td>\n",
       "      <td>56</td>\n",
       "      <td>20</td>\n",
       "      <td>11</td>\n",
       "      <td>A</td>\n",
       "      <td>N</td>\n",
       "      <td>N</td>\n",
       "      <td>0</td>\n",
       "      <td>no</td>\n",
       "      <td>recovery</td>\n",
       "    </tr>\n",
       "    <tr>\n",
       "      <th>6</th>\n",
       "      <td>F</td>\n",
       "      <td>59</td>\n",
       "      <td>29</td>\n",
       "      <td>16</td>\n",
       "      <td>no</td>\n",
       "      <td>Y</td>\n",
       "      <td>Y</td>\n",
       "      <td>22</td>\n",
       "      <td>invasive</td>\n",
       "      <td>death</td>\n",
       "    </tr>\n",
       "    <tr>\n",
       "      <th>7</th>\n",
       "      <td>F</td>\n",
       "      <td>63</td>\n",
       "      <td>22</td>\n",
       "      <td>15</td>\n",
       "      <td>B</td>\n",
       "      <td>Y</td>\n",
       "      <td>N</td>\n",
       "      <td>9</td>\n",
       "      <td>oxygen</td>\n",
       "      <td>recovery</td>\n",
       "    </tr>\n",
       "  </tbody>\n",
       "</table>\n",
       "</div>"
      ],
      "text/plain": [
       "  gender  age  BMI  hemoglobine vaccination_status hospitalization  \\\n",
       "0      M   22   24           13                  C               N   \n",
       "1      M   42   33           15                  B               Y   \n",
       "2      M   61   15           11                  A               Y   \n",
       "3      M   69   21           16                  A               Y   \n",
       "4      F   34   33            9                  D               Y   \n",
       "5      F   56   20           11                  A               N   \n",
       "6      F   59   29           16                 no               Y   \n",
       "7      F   63   22           15                  B               Y   \n",
       "\n",
       "  UCI_admission  hosp_days   therapy    status  \n",
       "0             N          0        no  recovery  \n",
       "1             Y         18  invasive     death  \n",
       "2             Y         32    oxygen  recovery  \n",
       "3             N          3    oxygen  recovery  \n",
       "4             Y          5    oxygen  recovery  \n",
       "5             N          0        no  recovery  \n",
       "6             Y         22  invasive     death  \n",
       "7             N          9    oxygen  recovery  "
      ]
     },
     "execution_count": 19,
     "metadata": {},
     "output_type": "execute_result"
    }
   ],
   "source": [
    "df = pd.read_csv(\"pandemic.csv\")\n",
    "df"
   ]
  },
  {
   "cell_type": "markdown",
   "id": "7c0f15b4",
   "metadata": {},
   "source": [
    "Normalization: standard and min-max scaling"
   ]
  },
  {
   "cell_type": "code",
   "execution_count": 12,
   "id": "2b97531c",
   "metadata": {},
   "outputs": [
    {
     "data": {
      "text/plain": [
       "0   -0.096460\n",
       "1    1.292565\n",
       "2   -1.485486\n",
       "3   -0.559469\n",
       "4    1.292565\n",
       "5   -0.713805\n",
       "6    0.675221\n",
       "7   -0.405132\n",
       "Name: BMI, dtype: float64"
      ]
     },
     "execution_count": 12,
     "metadata": {},
     "output_type": "execute_result"
    }
   ],
   "source": [
    "bmi_mean, bmi_std = df.BMI.mean(), df.BMI.std()\n",
    "df.BMI.apply(lambda x: (x-bmi_mean)/bmi_std)"
   ]
  },
  {
   "cell_type": "code",
   "execution_count": 13,
   "id": "bf404571",
   "metadata": {},
   "outputs": [
    {
     "data": {
      "text/plain": [
       "0    0.500000\n",
       "1    1.000000\n",
       "2    0.000000\n",
       "3    0.333333\n",
       "4    1.000000\n",
       "5    0.277778\n",
       "6    0.777778\n",
       "7    0.388889\n",
       "Name: BMI, dtype: float64"
      ]
     },
     "execution_count": 13,
     "metadata": {},
     "output_type": "execute_result"
    }
   ],
   "source": [
    "bmi_min, bmi_max = df.BMI.min(), df.BMI.max()\n",
    "df.BMI.apply(lambda x: (x-bmi_min)/(bmi_max-bmi_min))"
   ]
  },
  {
   "cell_type": "markdown",
   "id": "b88e8bb5",
   "metadata": {},
   "source": [
    "Visualizing the empirical distribution of categorical variables using bar charts"
   ]
  },
  {
   "cell_type": "code",
   "execution_count": 14,
   "id": "ce2f26c4",
   "metadata": {},
   "outputs": [
    {
     "data": {
      "image/png": "[encoded data removed]",
      "text/plain": [
       "<Figure size 1000x240 with 4 Axes>"
      ]
     },
     "metadata": {},
     "output_type": "display_data"
    }
   ],
   "source": [
    "df = pd.read_csv(\"pandemic.csv\")\n",
    "fig, axes = plt.subplots(1,4,figsize=(10,2.4))\n",
    "for i, col in enumerate(['gender','hospitalization','therapy','status']):\n",
    "    df[col].value_counts().plot(kind='bar', title=col, rot=0, ax=axes[i])\n",
    "plt.show()"
   ]
  },
  {
   "cell_type": "markdown",
   "id": "038f3917",
   "metadata": {},
   "source": [
    "Visualizing the empirical distribution of numeric variables using histograms"
   ]
  },
  {
   "cell_type": "code",
   "execution_count": 8,
   "id": "6b1590f4",
   "metadata": {},
   "outputs": [
    {
     "data": {
      "image/png": "[encoded data removed]",
      "text/plain": [
       "<Figure size 1300x240 with 4 Axes>"
      ]
     },
     "metadata": {},
     "output_type": "display_data"
    }
   ],
   "source": [
    "fig, axes = plt.subplots(1,4,figsize=(13,2.4))\n",
    "for i, col in enumerate(['age','BMI','hemoglobine','hosp. days']):\n",
    "    df[col].hist(bins=5, legend=True, ax=axes[i])\n",
    "plt.show()"
   ]
  },
  {
   "cell_type": "markdown",
   "id": "7dd86c06",
   "metadata": {},
   "source": [
    "Identifying the bounds to detect outlier values"
   ]
  },
  {
   "cell_type": "code",
   "execution_count": 9,
   "id": "8eb7674a",
   "metadata": {},
   "outputs": [
    {
     "name": "stdout",
     "output_type": "stream",
     "text": [
      "bounds [ 4.75 , 46.75 ]\n"
     ]
    }
   ],
   "source": [
    "q1, q3 = df.BMI.quantile(0.25,interpolation='midpoint'), df.BMI.quantile(0.75,interpolation='midpoint')\n",
    "IQR = q3-q1\n",
    "print(\"bounds [\",q1-1.5*IQR,\",\",q3+1.5*IQR,\"]\")"
   ]
  },
  {
   "cell_type": "markdown",
   "id": "14e40efe",
   "metadata": {},
   "source": [
    "Assessing linear and non-linear correlations"
   ]
  },
  {
   "cell_type": "code",
   "execution_count": 10,
   "id": "ac9688ce",
   "metadata": {},
   "outputs": [
    {
     "data": {
      "text/html": [
       "<div>\n",
       "<style scoped>\n",
       "    .dataframe tbody tr th:only-of-type {\n",
       "        vertical-align: middle;\n",
       "    }\n",
       "\n",
       "    .dataframe tbody tr th {\n",
       "        vertical-align: top;\n",
       "    }\n",
       "\n",
       "    .dataframe thead th {\n",
       "        text-align: right;\n",
       "    }\n",
       "</style>\n",
       "<table border=\"1\" class=\"dataframe\">\n",
       "  <thead>\n",
       "    <tr style=\"text-align: right;\">\n",
       "      <th></th>\n",
       "      <th>BMI</th>\n",
       "      <th>hemoglobine</th>\n",
       "      <th>hosp. days</th>\n",
       "    </tr>\n",
       "  </thead>\n",
       "  <tbody>\n",
       "    <tr>\n",
       "      <th>BMI</th>\n",
       "      <td>1.000000</td>\n",
       "      <td>0.072548</td>\n",
       "      <td>-0.101125</td>\n",
       "    </tr>\n",
       "    <tr>\n",
       "      <th>hemoglobine</th>\n",
       "      <td>0.072548</td>\n",
       "      <td>1.000000</td>\n",
       "      <td>0.104532</td>\n",
       "    </tr>\n",
       "    <tr>\n",
       "      <th>hosp. days</th>\n",
       "      <td>-0.101125</td>\n",
       "      <td>0.104532</td>\n",
       "      <td>1.000000</td>\n",
       "    </tr>\n",
       "  </tbody>\n",
       "</table>\n",
       "</div>"
      ],
      "text/plain": [
       "                  BMI  hemoglobine  hosp. days\n",
       "BMI          1.000000     0.072548   -0.101125\n",
       "hemoglobine  0.072548     1.000000    0.104532\n",
       "hosp. days  -0.101125     0.104532    1.000000"
      ]
     },
     "execution_count": 10,
     "metadata": {},
     "output_type": "execute_result"
    }
   ],
   "source": [
    "df[['BMI','hemoglobine','hosp. days']].corr(method='pearson')"
   ]
  },
  {
   "cell_type": "code",
   "execution_count": 11,
   "id": "0ff69c0c",
   "metadata": {},
   "outputs": [
    {
     "data": {
      "text/html": [
       "<div>\n",
       "<style scoped>\n",
       "    .dataframe tbody tr th:only-of-type {\n",
       "        vertical-align: middle;\n",
       "    }\n",
       "\n",
       "    .dataframe tbody tr th {\n",
       "        vertical-align: top;\n",
       "    }\n",
       "\n",
       "    .dataframe thead th {\n",
       "        text-align: right;\n",
       "    }\n",
       "</style>\n",
       "<table border=\"1\" class=\"dataframe\">\n",
       "  <thead>\n",
       "    <tr style=\"text-align: right;\">\n",
       "      <th></th>\n",
       "      <th>BMI</th>\n",
       "      <th>hemoglobine</th>\n",
       "      <th>hosp. days</th>\n",
       "    </tr>\n",
       "  </thead>\n",
       "  <tbody>\n",
       "    <tr>\n",
       "      <th>BMI</th>\n",
       "      <td>1.000000</td>\n",
       "      <td>0.091470</td>\n",
       "      <td>0.060241</td>\n",
       "    </tr>\n",
       "    <tr>\n",
       "      <th>hemoglobine</th>\n",
       "      <td>0.091470</td>\n",
       "      <td>1.000000</td>\n",
       "      <td>0.176842</td>\n",
       "    </tr>\n",
       "    <tr>\n",
       "      <th>hosp. days</th>\n",
       "      <td>0.060241</td>\n",
       "      <td>0.176842</td>\n",
       "      <td>1.000000</td>\n",
       "    </tr>\n",
       "  </tbody>\n",
       "</table>\n",
       "</div>"
      ],
      "text/plain": [
       "                  BMI  hemoglobine  hosp. days\n",
       "BMI          1.000000     0.091470    0.060241\n",
       "hemoglobine  0.091470     1.000000    0.176842\n",
       "hosp. days   0.060241     0.176842    1.000000"
      ]
     },
     "execution_count": 11,
     "metadata": {},
     "output_type": "execute_result"
    }
   ],
   "source": [
    "df[['BMI','hemoglobine','hosp. days']].corr(method='spearman')"
   ]
  },
  {
   "cell_type": "markdown",
   "id": "f22c892f",
   "metadata": {},
   "source": [
    "Visualizing class-conditional distributions"
   ]
  },
  {
   "cell_type": "code",
   "execution_count": 12,
   "id": "0f5098d5",
   "metadata": {},
   "outputs": [
    {
     "data": {
      "image/png": "[encoded data removed]",
      "text/plain": [
       "<Figure size 900x300 with 2 Axes>"
      ]
     },
     "metadata": {},
     "output_type": "display_data"
    }
   ],
   "source": [
    "fig, axes = plt.subplots(1,2,figsize=(9,3))\n",
    "for i, col in enumerate(['BMI','hemoglobine']):\n",
    "    axes[i].set_title(col)\n",
    "    df.groupby(\"UCI admission\")[col].plot(kind='kde', legend=True, ax=axes[i])"
   ]
  },
  {
   "cell_type": "markdown",
   "id": "7b51ef0a",
   "metadata": {},
   "source": [
    "### Gaussian essentials for Bayesian learning"
   ]
  },
  {
   "cell_type": "code",
   "execution_count": null,
   "id": "fa04ee1c",
   "metadata": {},
   "outputs": [],
   "source": [
    "from scipy import stats"
   ]
  },
  {
   "cell_type": "markdown",
   "id": "a2b5caf9",
   "metadata": {},
   "source": [
    "Univariate Gaussians (fitting and accessing pdf values)"
   ]
  },
  {
   "cell_type": "code",
   "execution_count": 41,
   "id": "0481598f",
   "metadata": {},
   "outputs": [
    {
     "name": "stdout",
     "output_type": "stream",
     "text": [
      "UCI=Y-conditional Gaussian for BMI with pdf(20)=0.032\n",
      "UCI=N-conditional Gaussian for BMI with pdf(20)=0.138\n"
     ]
    }
   ],
   "source": [
    "for outcome in ['Y','N']:\n",
    "    df_cond = df.loc[df.UCI_admission == outcome]\n",
    "    normal = stats.norm(df_cond.BMI.mean(), df_cond.BMI.std())\n",
    "    print(\"UCI=%s-conditional Gaussian for BMI with pdf(20)=%.3f\" % (outcome, normal.pdf(20)))"
   ]
  },
  {
   "cell_type": "markdown",
   "id": "3fdfee6d",
   "metadata": {},
   "source": [
    "Multivariate Gaussians (fitting and accessing pdf values)"
   ]
  },
  {
   "cell_type": "code",
   "execution_count": 43,
   "id": "4e2f43e0",
   "metadata": {},
   "outputs": [
    {
     "name": "stdout",
     "output_type": "stream",
     "text": [
      "UCI=Y-conditional Gaussian for (BMI,hemoglobine) with pdf(20,15)=0.003\n",
      "UCI=N-conditional Gaussian for (BMI,hemoglobine) with pdf(20,15)=0.019\n"
     ]
    }
   ],
   "source": [
    "for outcome in ['Y','N']:\n",
    "    df_cond = df.loc[df.UCI_admission == outcome]\n",
    "    mean = [df_cond.BMI.mean(),df_cond.hemoglobine.mean()]\n",
    "    cov = np.cov(df_cond[['BMI','hemoglobine']].T)\n",
    "    multnorm = stats.multivariate_normal(mean, cov)\n",
    "    print(\"UCI=%s-conditional Gaussian for (BMI,hemoglobine) with pdf(20,15)=%.3f\" % (outcome, multnorm.pdf([20,15])))"
   ]
  }
 ],
 "metadata": {
  "kernelspec": {
   "display_name": "Python 3 (ipykernel)",
   "language": "python",
   "name": "python3"
  },
  "language_info": {
   "codemirror_mode": {
    "name": "ipython",
    "version": 3
   },
   "file_extension": ".py",
   "mimetype": "text/x-python",
   "name": "python",
   "nbconvert_exporter": "python",
   "pygments_lexer": "ipython3",
   "version": "3.8.5"
  }
 },
 "nbformat": 4,
 "nbformat_minor": 5
}
