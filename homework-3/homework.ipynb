{
 "cells": [
  {
   "cell_type": "markdown",
   "metadata": {},
   "source": [
    "# I. Pen-and-paper\n",
    "### I.\n",
    "\n",
    "Cálculo da Regressão de Ridge"
   ]
  },
  {
   "cell_type": "code",
   "execution_count": 1,
   "metadata": {},
   "outputs": [],
   "source": [
    "import numpy as np\n",
    "import math\n",
    "\n",
    "e = math.e\n",
    "\n",
    "X = np.array([[1, e ** -0.29, e ** -0.29, e ** -2.29],\n",
    "              [1, e ** -0.205, e ** -1.305, e ** -1.105],\n",
    "              [1, e ** -0.34, e ** -2.34, e ** -0.34],\n",
    "              [1, e ** -0.125, e ** -1.825, e ** -0.425]])\n",
    "\n",
    "Z = np.array([0.8, 0.6, 0.3, 0.3]).T\n",
    "\n",
    "W = np.linalg.pinv(X.T @ X + 0.1 * np.identity(4)) @ X.T @ Z\n",
    "\n",
    "Z_pred = X @ W"
   ]
  },
  {
   "cell_type": "markdown",
   "metadata": {},
   "source": [
    "### II.\n",
    "\n",
    "Cálculo do Delta 3"
   ]
  },
  {
   "cell_type": "code",
   "execution_count": 2,
   "metadata": {},
   "outputs": [],
   "source": [
    "X = np.array([-0.98652085, -0.9981635,  -0.98652085])\n",
    "T = np.array([1, -1, -1])\n",
    "Z = np.array([-0.99299631, -2.99212439, -0.99299631])\n",
    "\n",
    "delta3 = (X - T) * (0.5 * (1 - np.tanh((0.5 * Z) - 2) ** 2))"
   ]
  },
  {
   "cell_type": "markdown",
   "metadata": {},
   "source": [
    "Cálculo dos Deltas 1 e 2"
   ]
  },
  {
   "cell_type": "code",
   "execution_count": 3,
   "metadata": {},
   "outputs": [],
   "source": [
    "W_T = np.array([[1, 1],\n",
    "                [4, 1],\n",
    "                [1, 1]])\n",
    "delta_prev = np.array([[-1.15092543e-05],\n",
    "                  [-1.72899256e-04]])\n",
    "Z = np.array([[1],\n",
    "              [1],\n",
    "              [1]])\n",
    "\n",
    "delta = np.multiply(np.dot(W_T, delta_prev), 0.5 * (1 - np.tanh(0.5 * Z - 2) ** 2))"
   ]
  },
  {
   "cell_type": "markdown",
   "metadata": {},
   "source": [
    "Cálculo dos dE / dW"
   ]
  },
  {
   "cell_type": "code",
   "execution_count": 4,
   "metadata": {},
   "outputs": [],
   "source": [
    "delta_X1 = np.array([[0.006775],\n",
    "                     [-0.317735],\n",
    "                     [0.006775]])\n",
    "X1 = np.array([[0.450483, -0.576421]])\n",
    "delta_X2 = np.array([[-2.659614e-02],\n",
    "                     [3.369628e-06],\n",
    "                     [1.804629e-04]])\n",
    "X2 = np.array([[-0.999564, -0.993432]])\n",
    "\n",
    "dEdW = delta_X1 @ X1 + delta_X2 @ X2"
   ]
  },
  {
   "cell_type": "markdown",
   "metadata": {},
   "source": [
    "Cálculo dos pesos atualizados"
   ]
  },
  {
   "cell_type": "code",
   "execution_count": 5,
   "metadata": {},
   "outputs": [],
   "source": [
    "W = np.array([[1, 1, 1, 1],\n",
    "              [1, 1, 2, 1],\n",
    "              [1, 1, 1, 1]])\n",
    "dEdW = np.array([[-0.18720683, -0.18719017, -0.18719017, -0.18717351],\n",
    "                 [-0.33589135, -0.33587157, -0.33587157, -0.33585179],\n",
    "                 [-0.18720683, -0.18719017, -0.18719017, -0.18717351]])\n",
    "\n",
    "W_new = W - 0.1 * dEdW"
   ]
  },
  {
   "cell_type": "markdown",
   "metadata": {},
   "source": [
    "Cálculo dos biases atualizados"
   ]
  },
  {
   "cell_type": "code",
   "execution_count": 6,
   "metadata": {},
   "outputs": [],
   "source": [
    "B = np.array([[1],\n",
    "              [1],\n",
    "              [1]])\n",
    "delta_X1 = np.array([[-0.187190],\n",
    "                     [-0.335872],\n",
    "                     [-0.187190]])\n",
    "delta_X2 = np.array([[-1.6661921e-05],\n",
    "                     [-1.9781619e-05],\n",
    "                     [-1.6661921e-05]])\n",
    "\n",
    "B_new = B - 0.1 * (delta_X1 + delta_X2)"
   ]
  },
  {
   "cell_type": "markdown",
   "metadata": {},
   "source": [
    "<hr>\n",
    "\n",
    "# II. Programming and critical analysis\n",
    "\n",
    "<div style=\"font-size: 18px\">\n",
    "Consider the winequality-red.csv dataset (available at the webpage) where the goal is to estimate \n",
    "the quality (sensory appreciation) of a wine based on physicochemical inputs.  \n",
    "Using a 80-20 training-test split with a fixed seed (random_state=0), you are asked to learn MLP \n",
    "regressors to answer the following questions.  \n",
    "Given their stochastic behavior, average the performance of each MLP from 10 runs                                 \n",
    "(for reproducibility consider seeding the MLPs with random_state ∈{1..10}).\n",
    "</div>\n",
    "\n",
    "\n",
    "1) **[3.5v] Learn a MLP regressor with 2 hidden layers of size 10, rectifier linear unit activation \n",
    "on all nodes, and early stopping with 20% of training data set aside for validation. All \n",
    "remaining parameters (e.g., loss, batch size, regularization term, solver) should be set as \n",
    "default. Plot the distribution of the residues (in absolute value) using a histogram.**\n"
   ]
  },
  {
   "cell_type": "code",
   "execution_count": 7,
   "metadata": {},
   "outputs": [
    {
     "data": {
      "image/png": "[encoded data removed]",
      "text/plain": [
       "<Figure size 640x480 with 1 Axes>"
      ]
     },
     "metadata": {},
     "output_type": "display_data"
    }
   ],
   "source": [
    "import pandas as pd\n",
    "from sklearn.neural_network import MLPRegressor\n",
    "from sklearn.model_selection import train_test_split\n",
    "from sklearn.metrics import mean_absolute_error\n",
    "import numpy as np\n",
    "import matplotlib.pyplot as plt\n",
    "import seaborn as sns\n",
    "\n",
    "df = pd.read_csv('winequality-red.csv', delimiter=';')\n",
    "X = df.drop('quality', axis=1)\n",
    "y = df['quality']\n",
    "\n",
    "X_train, X_test, y_train, y_test = train_test_split(X, y, train_size=0.8, random_state=0)\n",
    "residues, errors_original, errors_rounded = [], [], []\n",
    "\n",
    "for i in range(1, 11):\n",
    "    mlp = MLPRegressor(hidden_layer_sizes=(10, 10), activation='relu', early_stopping=True, random_state=i, validation_fraction=0.2)\n",
    "    mlp.fit(X_train, y_train)\n",
    "    y_pred = mlp.predict(X_test)\n",
    "    residues.append(np.abs(np.array(y_pred) - np.array(y_test)))\n",
    "\n",
    "    # for next question\n",
    "    rounded_predictions = np.round(y_pred)\n",
    "    rounded_predictions = np.clip(rounded_predictions, 1, 10)\n",
    "    errors_original.append(mean_absolute_error(y_test, y_pred))\n",
    "    errors_rounded.append(mean_absolute_error(y_test, rounded_predictions))\n",
    "\n",
    "sns.distplot(residues, kde=False, bins=15)\n",
    "plt.xlabel('Residue value')\n",
    "plt.ylabel('Frequency')\n",
    "plt.title('Residues Histogram')\n",
    "plt.show()"
   ]
  },
  {
   "cell_type": "markdown",
   "metadata": {},
   "source": [
    "2) **[1.5v] Since we are in the presence of a integer regression task, a recommended trick is to \n",
    "round and bound estimates. Assess the impact of these operations on the MAE of the MLP \n",
    "learnt in previous question.**"
   ]
  },
  {
   "cell_type": "code",
   "execution_count": 8,
   "metadata": {},
   "outputs": [
    {
     "name": "stdout",
     "output_type": "stream",
     "text": [
      "Original MAE: 0.50972\n",
      "MAE after rounding and bounding: 0.43875\n"
     ]
    }
   ],
   "source": [
    "mae_original = np.mean(errors_original)\n",
    "mae_rounded = np.mean(errors_rounded)\n",
    "\n",
    "print(f\"Original MAE: {round(mae_original, 5)}\")\n",
    "print(f\"MAE after rounding and bounding: {round(mae_rounded, 5)}\")"
   ]
  },
  {
   "cell_type": "markdown",
   "metadata": {},
   "source": [
    "Podemos observar que o *MAE* após *rounding and bounding* é inferior ao original, o que nos indica que estas *predictions* estão mais próximas dos valores reais. Apesar de apresentar esta vantagem e tornar as *predictions* mais interpretáveis (por terem uma natureza mais próxima da *integer regression*), o *rounding and bounding* pode levar a uma perda significativa de precisão."
   ]
  },
  {
   "cell_type": "markdown",
   "metadata": {},
   "source": [
    "3) **[1.5v] Similarly assess the impact on RMSE from replacing early stopping by a well-defined \n",
    "number of iterations in {20,50,100,200} (where one iteration corresponds to a batch).**"
   ]
  },
  {
   "cell_type": "code",
   "execution_count": 9,
   "metadata": {},
   "outputs": [
    {
     "name": "stdout",
     "output_type": "stream",
     "text": [
      "RMSE for MLP with max 20 iterations: 1.40398\n",
      "RMSE for MLP with max 50 iterations: 0.79961\n",
      "RMSE for MLP with max 100 iterations: 0.69404\n",
      "RMSE for MLP with max 200 iterations: 0.65545\n"
     ]
    }
   ],
   "source": [
    "from sklearn.metrics import mean_squared_error\n",
    "\n",
    "for iter_num in (20, 50, 100, 200):\n",
    "    errors = []\n",
    "    \n",
    "    for i in range(1, 11):\n",
    "        mlp = MLPRegressor(hidden_layer_sizes=(10, 10), activation='relu', max_iter=iter_num, random_state=i)\n",
    "        mlp.fit(X_train, y_train)\n",
    "        y_pred = mlp.predict(X_test)\n",
    "\n",
    "        errors.append(mean_squared_error(y_test, y_pred, squared=False))\n",
    "\n",
    "    rmse = np.mean(errors)\n",
    "    print(f\"RMSE for MLP with max {iter_num} iterations: {round(rmse, 5)}\")"
   ]
  },
  {
   "cell_type": "markdown",
   "metadata": {},
   "source": [
    "4) **[1.5v] Critically comment the results obtained in previous question, hypothesizing at least \n",
    "one reason why early stopping favors and/or worsens performance.**"
   ]
  },
  {
   "cell_type": "markdown",
   "metadata": {},
   "source": [
    "**R:** Se não utilizarmos *early stopping*, o fim do treino é baseado apenas nos dados de treino, o que pode levar tanto a *underfitting* (caso pare num máximo local) como a *overfitting* (caso se ajuste demasiado aos dados de treino).\n",
    "O *early stopping* consiste em terminar o treino quando o *validation score* não é melhorado durante um certo número consecutivo de épocas, o que previne ambos os problemas mencionados anteriormente.\n",
    "\n",
    "Analisando os resultados obtidos na pergunta anterior, podemos observar que com o aumento do número de iterações o erro diminui. Assim, não temos quaisquer evidências de *overfitting* (neste caso, o erro aumentaria com o número de iterações), pelo que não podemos concluir desta forma o *threshold* do *early stopping*. Posteriormente, calculámos o *RMSE* do exercício 2 (mesmo treino mas com *early stopping*), obtendo o valor 0.67065, o que nos indica que o treino original terminaria entre as 100 e as 200 iterações. O facto de o erro continuar a diminuir para um número de iterações além do *threshold* do *early stopping* ([100,200]) é algo inesperado, levando-nos a crer que os dados de validação utilizados podem não ser os mais adequados."
   ]
  }
 ],
 "metadata": {
  "kernelspec": {
   "display_name": "myenv",
   "language": "python",
   "name": "python3"
  },
  "language_info": {
   "codemirror_mode": {
    "name": "ipython",
    "version": 3
   },
   "file_extension": ".py",
   "mimetype": "text/x-python",
   "name": "python",
   "nbconvert_exporter": "python",
   "pygments_lexer": "ipython3",
   "version": "3.11.4"
  },
  "orig_nbformat": 4
 },
 "nbformat": 4,
 "nbformat_minor": 2
}
